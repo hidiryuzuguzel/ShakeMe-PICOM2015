{
 "cells": [
  {
   "cell_type": "markdown",
   "metadata": {},
   "source": [
    "# ShakeMe: Key Generation Based on Accelerometer Signals Obtained From Synchronous Sensor Motion"
   ]
  },
  {
   "cell_type": "code",
   "execution_count": 1,
   "metadata": {},
   "outputs": [],
   "source": [
    "%matplotlib inline\n",
    "from scipy.io import loadmat\n",
    "from scipy import signal\n",
    "from scipy.stats import skew, kurtosis\n",
    "import numpy as np\n",
    "import pandas as pd\n",
    "import matplotlib.pyplot as plt\n",
    "import matplotlib as mpl\n",
    "from IPython.display import Latex\n",
    "from sklearn.metrics import confusion_matrix, accuracy_score, precision_score, recall_score, f1_score\n",
    "\n",
    "mpl.rcParams['font.size'] = 24\n",
    "mpl.rcParams['lines.linewidth'] = 2\n",
    "mpl.rcParams['figure.figsize'] = (10, 6)\n",
    "mpl.rcParams['lines.linewidth'] = 3\n",
    "mpl.rcParams['lines.markersize'] = 10\n",
    "mpl.rcParams['font.size'] = 16\n",
    "mpl.rcParams['figure.figsize'] = (10*1.2, 6*1.2)"
   ]
  },
  {
   "cell_type": "markdown",
   "metadata": {},
   "source": [
    "## Load accelerometer data set\n",
    "\n",
    "In this work, two Samsung Galaxy Nexus smart-phones are used to acquire accelerometer sensor data. The data are acquired from linear_acceleration sensor, which is a software-based sensor, of Android API. The sampling rate $F_s$ of the sensor is $100$Hz.\n",
    "\n",
    "The positive class test data $D_1$ consists of $150$ shaking experiments recorded from $10$ individuals ($15$ experiments per individual). Five of the test subjects are male and five of them are female. All test subjects are asked to shake two devices ($1$ and $2$) together in one hand for $5$ seconds which results in approximately $500$ time samples in an acceleration signal. Except this, no other instructions are given to the individuals. For negative class test data $D_2$, in turn, $300$ test samples are randomly generated from $D_1$ such that first two random individuals are selected out of $10$ individuals and then two acceleration signals of those two individuals are randomly selected. This pair of signals constitutes one negative test sample of $D_2$. "
   ]
  },
  {
   "cell_type": "code",
   "execution_count": 2,
   "metadata": {},
   "outputs": [
    {
     "data": {
      "text/plain": [
       "array([[array([[ 5.81306348e+13, -1.69318905e+01, -1.24267082e+01,\n",
       "        -3.29315178e-02],\n",
       "       [ 5.81306447e+13, -1.44012527e+01, -1.46136608e+01,\n",
       "         9.22531605e-01],\n",
       "       [ 5.81306547e+13, -1.15992289e+01, -1.44759474e+01,\n",
       "         1.21382582e+00],\n",
       "       ...,\n",
       "       [ 5.81356016e+13, -3.23222852e+00, -1.20515890e+01,\n",
       "         4.26313490e-01],\n",
       "       [ 5.81356116e+13, -2.60428429e+00, -1.13029957e+01,\n",
       "        -7.75387585e-02],\n",
       "       [ 5.81356215e+13, -1.18957627e+00, -1.02758312e+01,\n",
       "        -7.42456079e-01]]),\n",
       "        array([[ 4.13253652e+13, -1.36264639e+01, -1.40205936e+01,\n",
       "        -5.43085670e+00],\n",
       "       [ 4.13253752e+13, -1.19722538e+01, -1.45585756e+01,\n",
       "        -4.41147614e+00],\n",
       "       [ 4.13253852e+13, -8.70499802e+00, -1.49341440e+01,\n",
       "        -2.85501289e+00],\n",
       "       ...,\n",
       "       [ 4.13303290e+13, -1.71722901e+00, -1.20619173e+01,\n",
       "        -9.89143074e-01],\n",
       "       [ 4.13303390e+13, -1.83069301e+00, -1.12037516e+01,\n",
       "        -1.78174484e+00],\n",
       "       [ 4.13303490e+13, -5.50255716e-01, -1.05526056e+01,\n",
       "        -2.32616282e+00]]),\n",
       "        array([[1]], dtype=uint8)],\n",
       "       [array([[ 5.82042377e+13, -1.19078875e+01,  2.16942368e+01,\n",
       "         5.02774477e+00],\n",
       "       [ 5.82042477e+13, -1.08180037e+01,  2.02724934e+01,\n",
       "         3.65345263e+00],\n",
       "       [ 5.82042577e+13, -1.01538353e+01,  1.81725101e+01,\n",
       "         1.95688069e+00],\n",
       "       ...,\n",
       "       [ 5.82092045e+13, -7.22352839e+00,  7.64205837e+00,\n",
       "         4.52464104e+00],\n",
       "       [ 5.82092145e+13, -6.36012411e+00,  6.22285938e+00,\n",
       "         5.00903368e+00],\n",
       "       [ 5.82092245e+13, -5.76720715e+00,  4.98493385e+00,\n",
       "         5.52531004e+00]]),\n",
       "        array([[ 4.13989733e+13, -1.03900442e+01,  1.98078594e+01,\n",
       "         6.17959929e+00],\n",
       "       [ 4.13989833e+13, -9.74533463e+00,  1.87312984e+01,\n",
       "         4.95230150e+00],\n",
       "       [ 4.13989933e+13, -9.02772713e+00,  1.68522549e+01,\n",
       "         2.62374401e+00],\n",
       "       ...,\n",
       "       [ 4.14039372e+13, -7.04659653e+00,  6.95034647e+00,\n",
       "         5.11695910e+00],\n",
       "       [ 4.14039472e+13, -6.42404127e+00,  5.73517370e+00,\n",
       "         5.83262110e+00],\n",
       "       [ 4.14039572e+13, -5.58503580e+00,  4.51101923e+00,\n",
       "         6.19112539e+00]]),\n",
       "        array([[1]], dtype=uint8)],\n",
       "       [array([[ 5.82506825e+13, -7.87706947e+00,  2.65447502e+01,\n",
       "         1.24795485e+00],\n",
       "       [ 5.82506924e+13, -6.31566668e+00,  2.65032864e+01,\n",
       "        -3.92034769e-01],\n",
       "       [ 5.82507024e+13, -5.45046568e+00,  2.65487919e+01,\n",
       "        -1.75345373e+00],\n",
       "       ...,\n",
       "       [ 5.82556492e+13, -2.54081631e+00, -1.04657860e+01,\n",
       "        -1.74926233e+00],\n",
       "       [ 5.82556592e+13, -1.82934582e+00, -1.05093460e+01,\n",
       "        -1.68280065e+00],\n",
       "       [ 5.82556692e+13, -1.60541153e+00, -1.05343437e+01,\n",
       "        -1.84132099e+00]]),\n",
       "        array([[ 4.14454212e+13, -7.95341063e+00,  2.67963772e+01,\n",
       "         6.86023414e-01],\n",
       "       [ 4.14454312e+13, -6.01449299e+00,  2.67640438e+01,\n",
       "        -9.62648153e-01],\n",
       "       [ 4.14454412e+13, -4.52419186e+00,  2.68378410e+01,\n",
       "        -2.05627394e+00],\n",
       "       ...,\n",
       "       [ 4.14503851e+13, -2.42750192e+00, -1.06757994e+01,\n",
       "        -2.00792456e+00],\n",
       "       [ 4.14503951e+13, -1.67052615e+00, -1.07250471e+01,\n",
       "        -1.89296353e+00],\n",
       "       [ 4.14504051e+13, -1.79312122e+00, -1.07536373e+01,\n",
       "        -1.68938684e+00]]),\n",
       "        array([[1]], dtype=uint8)],\n",
       "       ...,\n",
       "       [array([[ 5.41741738e+13,  1.82897167e+01,  1.41367521e+01,\n",
       "        -1.68220177e+01],\n",
       "       [ 5.41741839e+13,  1.70999908e+01,  1.51230516e+01,\n",
       "        -1.73504200e+01],\n",
       "       [ 5.41741938e+13,  1.52204990e+01,  1.64828243e+01,\n",
       "        -1.87720127e+01],\n",
       "       ...,\n",
       "       [ 5.41791378e+13, -1.57728500e+01, -8.02810574e+00,\n",
       "        -2.66341138e+00],\n",
       "       [ 5.41791478e+13, -1.53465366e+01, -7.48488522e+00,\n",
       "        -2.62778544e+00],\n",
       "       [ 5.41791578e+13, -1.49158821e+01, -6.23573256e+00,\n",
       "        -2.93359947e+00]]),\n",
       "        array([[ 5.58290122e+13, -9.60911751e+00, -2.22856560e+01,\n",
       "        -1.98068118e+00],\n",
       "       [ 5.58290222e+13, -7.69893980e+00, -2.14997902e+01,\n",
       "        -3.33132243e+00],\n",
       "       [ 5.58290322e+13, -5.73128176e+00, -2.09390564e+01,\n",
       "        -3.81945729e+00],\n",
       "       ...,\n",
       "       [ 5.58339791e+13, -2.90964937e+00, -5.70314050e-01,\n",
       "        -2.13216615e+00],\n",
       "       [ 5.58339890e+13, -4.65636683e+00, -1.12401259e+00,\n",
       "        -1.90059769e+00],\n",
       "       [ 5.58339990e+13, -6.96651316e+00, -2.18500614e+00,\n",
       "        -1.14691496e+00]]),\n",
       "        array([[0]], dtype=uint8)],\n",
       "       [array([[ 3.67730732e+13, -1.77976894e+01, -9.29132843e+00,\n",
       "        -6.93358183e-01],\n",
       "       [ 3.67730832e+13, -1.63063412e+01, -9.56046867e+00,\n",
       "         2.91893005e-01],\n",
       "       [ 3.67730932e+13, -1.51847229e+01, -9.78754711e+00,\n",
       "         1.14407086e+00],\n",
       "       ...,\n",
       "       [ 3.67780372e+13, -1.54329076e-01,  1.15859070e+01,\n",
       "         5.91165686e+00],\n",
       "       [ 3.67780473e+13, -3.63743603e-01,  1.32130232e+01,\n",
       "         5.78591824e+00],\n",
       "       [ 3.67780572e+13, -9.08460855e-01,  1.43771524e+01,\n",
       "         5.25527143e+00]]),\n",
       "        array([[ 1.45401816e+12, -1.06641235e+01,  1.99024620e+01,\n",
       "         1.07898626e+01],\n",
       "       [ 1.45402817e+12, -7.17083836e+00,  1.99892826e+01,\n",
       "         1.07951012e+01],\n",
       "       [ 1.45403815e+12, -3.80014753e+00,  1.95035419e+01,\n",
       "         1.07677088e+01],\n",
       "       ...,\n",
       "       [ 1.45898505e+12,  1.17463732e+01, -1.24785004e+01,\n",
       "         7.89458323e+00],\n",
       "       [ 1.45899503e+12,  1.16809597e+01, -1.38405190e+01,\n",
       "         3.62261677e+00],\n",
       "       [ 1.45900497e+12,  1.16300650e+01, -1.38938074e+01,\n",
       "         1.84117123e-01]]),\n",
       "        array([[0]], dtype=uint8)],\n",
       "       [array([[ 1.85901801e+12,  2.13242054e+01,  1.06612797e+01,\n",
       "        -1.31580877e+01],\n",
       "       [ 1.85902798e+12,  2.01924095e+01,  9.11798859e+00,\n",
       "        -1.19077377e+01],\n",
       "       [ 1.85903799e+12,  1.77517357e+01,  1.03906422e+01,\n",
       "        -1.08608150e+01],\n",
       "       ...,\n",
       "       [ 1.86397195e+12, -1.16848516e+01, -4.24547148e+00,\n",
       "        -2.16375041e+00],\n",
       "       [ 1.86398196e+12, -1.17822990e+01, -1.85643947e+00,\n",
       "        -1.86512148e+00],\n",
       "       [ 1.86399197e+12, -1.07367229e+01,  1.28133550e-01,\n",
       "        -1.84251845e+00]]),\n",
       "        array([[ 5.09259988e+13, -1.43138342e+01, -1.88669167e+01,\n",
       "        -1.11085501e+01],\n",
       "       [ 5.09260088e+13, -1.06040983e+01, -1.79880943e+01,\n",
       "        -1.15255823e+01],\n",
       "       [ 5.09260188e+13, -5.75672865e+00, -1.75164242e+01,\n",
       "        -1.08000412e+01],\n",
       "       ...,\n",
       "       [ 5.09309655e+13, -1.51618204e+01, -2.35366058e+01,\n",
       "         5.39163780e+00],\n",
       "       [ 5.09309755e+13, -1.17802029e+01, -2.09522305e+01,\n",
       "         2.77627659e+00],\n",
       "       [ 5.09309855e+13, -7.12593174e+00, -1.83385143e+01,\n",
       "        -3.29165488e-01]]),\n",
       "        array([[0]], dtype=uint8)]], dtype=object)"
      ]
     },
     "execution_count": 2,
     "metadata": {},
     "output_type": "execute_result"
    }
   ],
   "source": [
    "datasets = loadmat('ShakeMe.mat')['ShakeMe']\n",
    "datasets"
   ]
  },
  {
   "cell_type": "code",
   "execution_count": 66,
   "metadata": {},
   "outputs": [
    {
     "data": {
      "image/png": "[encoded data removed]",
      "text/plain": [
       "<Figure size 432x288 with 2 Axes>"
      ]
     },
     "metadata": {},
     "output_type": "display_data"
    }
   ],
   "source": [
    "fig, ax = plt.subplots(2,1)\n",
    "ax[0].plot(datasets[0,0][:,1:])\n",
    "ax[0].set_title('device 1 raw signal')\n",
    "ax[0].set_xlabel('sample index')\n",
    "ax[0].set_ylabel('acceleration (m/s^2)')\n",
    "\n",
    "ax[1].plot(datasets[0,1][:,1:])\n",
    "ax[1].set_title('device 2 raw signal')\n",
    "ax[1].set_xlabel('sample index')\n",
    "ax[1].set_ylabel('acceleration (m/s^2)')\n",
    "fig.tight_layout()"
   ]
  },
  {
   "cell_type": "code",
   "execution_count": 3,
   "metadata": {},
   "outputs": [
    {
     "data": {
      "text/plain": [
       "array([1, 1, 1, 1, 1, 1, 1, 1, 1, 1, 1, 1, 1, 1, 1, 1, 1, 1, 1, 1, 1, 1,\n",
       "       1, 1, 1, 1, 1, 1, 1, 1, 1, 1, 1, 1, 1, 1, 1, 1, 1, 1, 1, 1, 1, 1,\n",
       "       1, 1, 1, 1, 1, 1, 1, 1, 1, 1, 1, 1, 1, 1, 1, 1, 1, 1, 1, 1, 1, 1,\n",
       "       1, 1, 1, 1, 1, 1, 1, 1, 1, 1, 1, 1, 1, 1, 1, 1, 1, 1, 1, 1, 1, 1,\n",
       "       1, 1, 1, 1, 1, 1, 1, 1, 1, 1, 1, 1, 1, 1, 1, 1, 1, 1, 1, 1, 1, 1,\n",
       "       1, 1, 1, 1, 1, 1, 1, 1, 1, 1, 1, 1, 1, 1, 1, 1, 1, 1, 1, 1, 1, 1,\n",
       "       1, 1, 1, 1, 1, 1, 1, 1, 1, 1, 1, 1, 1, 1, 1, 1, 1, 1, 0, 0, 0, 0,\n",
       "       0, 0, 0, 0, 0, 0, 0, 0, 0, 0, 0, 0, 0, 0, 0, 0, 0, 0, 0, 0, 0, 0,\n",
       "       0, 0, 0, 0, 0, 0, 0, 0, 0, 0, 0, 0, 0, 0, 0, 0, 0, 0, 0, 0, 0, 0,\n",
       "       0, 0, 0, 0, 0, 0, 0, 0, 0, 0, 0, 0, 0, 0, 0, 0, 0, 0, 0, 0, 0, 0,\n",
       "       0, 0, 0, 0, 0, 0, 0, 0, 0, 0, 0, 0, 0, 0, 0, 0, 0, 0, 0, 0, 0, 0,\n",
       "       0, 0, 0, 0, 0, 0, 0, 0, 0, 0, 0, 0, 0, 0, 0, 0, 0, 0, 0, 0, 0, 0,\n",
       "       0, 0, 0, 0, 0, 0, 0, 0, 0, 0, 0, 0, 0, 0, 0, 0, 0, 0, 0, 0, 0, 0,\n",
       "       0, 0, 0, 0, 0, 0, 0, 0, 0, 0, 0, 0, 0, 0, 0, 0, 0, 0, 0, 0, 0, 0,\n",
       "       0, 0, 0, 0, 0, 0, 0, 0, 0, 0, 0, 0, 0, 0, 0, 0, 0, 0, 0, 0, 0, 0,\n",
       "       0, 0, 0, 0, 0, 0, 0, 0, 0, 0, 0, 0, 0, 0, 0, 0, 0, 0, 0, 0, 0, 0,\n",
       "       0, 0, 0, 0, 0, 0, 0, 0, 0, 0, 0, 0, 0, 0, 0, 0, 0, 0, 0, 0, 0, 0,\n",
       "       0, 0, 0, 0, 0, 0, 0, 0, 0, 0, 0, 0, 0, 0, 0, 0, 0, 0, 0, 0, 0, 0,\n",
       "       0, 0, 0, 0, 0, 0, 0, 0, 0, 0, 0, 0, 0, 0, 0, 0, 0, 0, 0, 0, 0, 0,\n",
       "       0, 0, 0, 0, 0, 0, 0, 0, 0, 0, 0, 0, 0, 0, 0, 0, 0, 0, 0, 0, 0, 0,\n",
       "       0, 0, 0, 0, 0, 0, 0, 0, 0, 0], dtype=uint8)"
      ]
     },
     "execution_count": 3,
     "metadata": {},
     "output_type": "execute_result"
    }
   ],
   "source": [
    "labels = np.concatenate(datasets[:,-1])\n",
    "labels = labels.flatten()\n",
    "labels"
   ]
  },
  {
   "cell_type": "code",
   "execution_count": 4,
   "metadata": {},
   "outputs": [
    {
     "data": {
      "text/html": [
       "<div>\n",
       "<style scoped>\n",
       "    .dataframe tbody tr th:only-of-type {\n",
       "        vertical-align: middle;\n",
       "    }\n",
       "\n",
       "    .dataframe tbody tr th {\n",
       "        vertical-align: top;\n",
       "    }\n",
       "\n",
       "    .dataframe thead th {\n",
       "        text-align: right;\n",
       "    }\n",
       "</style>\n",
       "<table border=\"1\" class=\"dataframe\">\n",
       "  <thead>\n",
       "    <tr style=\"text-align: right;\">\n",
       "      <th></th>\n",
       "      <th>acceleration_pair</th>\n",
       "      <th>label</th>\n",
       "    </tr>\n",
       "  </thead>\n",
       "  <tbody>\n",
       "    <tr>\n",
       "      <th>0</th>\n",
       "      <td>([[58130634758623.0, -16.9318904876709, -12.42...</td>\n",
       "      <td>1</td>\n",
       "    </tr>\n",
       "    <tr>\n",
       "      <th>1</th>\n",
       "      <td>([[58204237724930.0, -11.90788745880127, 21.69...</td>\n",
       "      <td>1</td>\n",
       "    </tr>\n",
       "    <tr>\n",
       "      <th>2</th>\n",
       "      <td>([[58250682457596.0, -7.877069473266602, 26.54...</td>\n",
       "      <td>1</td>\n",
       "    </tr>\n",
       "    <tr>\n",
       "      <th>3</th>\n",
       "      <td>([[58290313652666.0, -5.612279415130615, 27.92...</td>\n",
       "      <td>1</td>\n",
       "    </tr>\n",
       "    <tr>\n",
       "      <th>4</th>\n",
       "      <td>([[58333364159256.0, -5.676046371459961, 26.11...</td>\n",
       "      <td>1</td>\n",
       "    </tr>\n",
       "  </tbody>\n",
       "</table>\n",
       "</div>"
      ],
      "text/plain": [
       "                                   acceleration_pair  label\n",
       "0  ([[58130634758623.0, -16.9318904876709, -12.42...      1\n",
       "1  ([[58204237724930.0, -11.90788745880127, 21.69...      1\n",
       "2  ([[58250682457596.0, -7.877069473266602, 26.54...      1\n",
       "3  ([[58290313652666.0, -5.612279415130615, 27.92...      1\n",
       "4  ([[58333364159256.0, -5.676046371459961, 26.11...      1"
      ]
     },
     "execution_count": 4,
     "metadata": {},
     "output_type": "execute_result"
    }
   ],
   "source": [
    "# convert data to dataframe\n",
    "df_datasets = pd.DataFrame(datasets[:,:-1] , columns=['acceleration1', 'acceleration2'])\n",
    "df_datasets['acceleration_pair'] = df_datasets.apply(lambda row: \n",
    "                                                     (row['acceleration1'], row['acceleration2']), axis=1)\n",
    "df_datasets.drop(columns=['acceleration1', 'acceleration2'], inplace=True)\n",
    "df_datasets['label'] = labels\n",
    "df_datasets.head()"
   ]
  },
  {
   "cell_type": "code",
   "execution_count": 5,
   "metadata": {},
   "outputs": [
    {
     "data": {
      "text/plain": [
       "450"
      ]
     },
     "execution_count": 5,
     "metadata": {},
     "output_type": "execute_result"
    }
   ],
   "source": [
    "nsignals = len(df_datasets)\n",
    "nsignals"
   ]
  },
  {
   "cell_type": "code",
   "execution_count": 6,
   "metadata": {},
   "outputs": [
    {
     "data": {
      "text/plain": [
       "150"
      ]
     },
     "execution_count": 6,
     "metadata": {},
     "output_type": "execute_result"
    }
   ],
   "source": [
    "npositive_class_signals = np.sum(df_datasets['label'] == 1)\n",
    "npositive_class_signals"
   ]
  },
  {
   "cell_type": "code",
   "execution_count": 7,
   "metadata": {},
   "outputs": [
    {
     "data": {
      "text/plain": [
       "300"
      ]
     },
     "execution_count": 7,
     "metadata": {},
     "output_type": "execute_result"
    }
   ],
   "source": [
    "nnegative_class_signals = np.sum(df_datasets['label'] == 0)\n",
    "nnegative_class_signals"
   ]
  },
  {
   "cell_type": "code",
   "execution_count": 8,
   "metadata": {},
   "outputs": [],
   "source": [
    "is_confirmed = np.zeros((nsignals,2))\n",
    "nbits = np.arange(3, 8)\n",
    "nfeatures = 10\n",
    "peak_threshold_raw = 0\n",
    "peak_threshold_filtered = 0.01\n",
    "kernel_size = np.arange(5, 51, 5)\n",
    "df_metric = pd.DataFrame(columns=['preprocessing', 'criteria', 'nbit', 'kernel_size', \n",
    "                                  'conf_mat', 'accuracy', 'precision', 'recall', 'f1'])\n",
    "\n",
    "normalizer_vector = np.array([10, 10, 10, 10, 1, 1, 1, 10, 1e5, 100]) # pre-defined feature normalizer vector"
   ]
  },
  {
   "cell_type": "markdown",
   "metadata": {},
   "source": [
    "## Pre-processing of accelerometer signals"
   ]
  },
  {
   "cell_type": "code",
   "execution_count": 9,
   "metadata": {},
   "outputs": [],
   "source": [
    "euclidean_norm = lambda accel: np.sqrt(accel[:,0]**2 + accel[:,1]**2 + accel[:,2]**2)\n",
    "\n",
    "df_datasets['acceleration_norm'] = df_datasets['acceleration_pair'].apply(\n",
    "    lambda row: tuple(euclidean_norm(elem[:,1:]) for elem in row) ) # elem[:,1:] skips the time stamp"
   ]
  },
  {
   "cell_type": "code",
   "execution_count": 69,
   "metadata": {},
   "outputs": [
    {
     "data": {
      "image/png": "[encoded data removed]",
      "text/plain": [
       "<Figure size 432x288 with 2 Axes>"
      ]
     },
     "metadata": {},
     "output_type": "display_data"
    }
   ],
   "source": [
    "fig, ax = plt.subplots(2,1)\n",
    "ax[0].plot(df_datasets['acceleration_norm'].iloc[0][0])\n",
    "ax[0].set_title('device 1 magnitude signal')\n",
    "ax[0].set_xlabel('sample index')\n",
    "ax[0].set_ylabel('acceleration (m/s^2)')\n",
    "\n",
    "ax[1].plot(df_datasets['acceleration_norm'].iloc[0][1])\n",
    "ax[1].set_title('device 2 magnitude signal')\n",
    "ax[1].set_xlabel('sample index')\n",
    "ax[1].set_ylabel('acceleration (m/s^2)')\n",
    "fig.tight_layout()"
   ]
  },
  {
   "cell_type": "markdown",
   "metadata": {},
   "source": [
    "## Feature Extraction (FeX) From Accelerometer Time Series\n",
    "\n",
    "In this work, $10$ different features were used: number of peaks, root-mean-square (rms), mean, variance, skewness, kurtosis, crest factor, peak to peak, autocorrelation and average power. These features are extracted from the whole acceleration signal without doing any windowing. Since the ranges of feature values are quite different, feature values are normalized before the feature signal is passed to the quantizer."
   ]
  },
  {
   "cell_type": "code",
   "execution_count": 10,
   "metadata": {},
   "outputs": [],
   "source": [
    "def FeX(acc_signal, min_peak_distance, min_peak_height, peak_threshold):\n",
    "    \"\"\"Data descriptive statistics -- summary statistics\"\"\"\n",
    "    crest_factor = lambda sig: 0.5 * (max(sig) - min(sig))/(np.sqrt(np.mean(sig**2)))\n",
    "    \n",
    "    pks_acc_signal,_ =  signal.find_peaks(acc_signal, \n",
    "                                        height=min_peak_height, \n",
    "                                        threshold=peak_threshold, \n",
    "                                        distance=min_peak_distance+0.0000001)\n",
    "    \n",
    "    rms_acc_signal = np.sqrt(np.mean(acc_signal**2))\n",
    "    mean_acc_signal = np.mean(acc_signal)\n",
    "    var_acc_signal = np.var(acc_signal, ddof=1)\n",
    "    skewness_acc_signal = skew(acc_signal)\n",
    "    kurtosis_acc_signal = kurtosis(acc_signal) + 3 # python kurtosis fct subtracts 3, therefore 3 is added\n",
    "    cf_acc_signal = crest_factor(acc_signal)\n",
    "    p2p_acc_signal = max(acc_signal) - min(acc_signal)\n",
    "    autocorr_acc_signal = np.correlate(acc_signal, acc_signal)[0]\n",
    "    pband_acc_signal = np.linalg.norm(acc_signal)**2/len(acc_signal)\n",
    "    \n",
    "    feature_acc_signal = [len(pks_acc_signal), rms_acc_signal, mean_acc_signal, var_acc_signal, skewness_acc_signal, \n",
    "                          kurtosis_acc_signal, cf_acc_signal, p2p_acc_signal, autocorr_acc_signal, pband_acc_signal]\n",
    "\n",
    "    feature_acc_signal = np.asarray(feature_acc_signal)\n",
    "    \n",
    "    return feature_acc_signal"
   ]
  },
  {
   "cell_type": "code",
   "execution_count": 11,
   "metadata": {},
   "outputs": [],
   "source": [
    "df_datasets['acceleration_feature'] = df_datasets['acceleration_norm'].apply(\n",
    "    lambda row: tuple(FeX(elem, 3, 0, peak_threshold_raw) / normalizer_vector for elem in row) )"
   ]
  },
  {
   "cell_type": "code",
   "execution_count": 12,
   "metadata": {},
   "outputs": [
    {
     "name": "stderr",
     "output_type": "stream",
     "text": [
      "/Users/hidiryuzuguzel/anaconda3/lib/python3.6/site-packages/scipy/signal/signaltools.py:1344: FutureWarning: Using a non-tuple sequence for multidimensional indexing is deprecated; use `arr[tuple(seq)]` instead of `arr[seq]`. In the future this will be interpreted as an array index, `arr[np.array(seq)]`, which will result either in an error or a different result.\n",
      "  out = out_full[ind]\n"
     ]
    },
    {
     "name": "stdout",
     "output_type": "stream",
     "text": [
      "ks: 1/10 \n",
      "ks: 2/10 \n",
      "ks: 3/10 \n",
      "ks: 4/10 \n",
      "ks: 5/10 \n",
      "ks: 6/10 \n",
      "ks: 7/10 \n",
      "ks: 8/10 \n",
      "ks: 9/10 \n",
      "ks: 10/10 \n"
     ]
    }
   ],
   "source": [
    "feature_filtered_acc_signal1 = np.full((nsignals, nfeatures, len(kernel_size)), np.inf)\n",
    "feature_filtered_acc_signal2 = np.full((nsignals, nfeatures, len(kernel_size)), np.inf)\n",
    "\n",
    "for idx_ks, ks in enumerate(kernel_size):\n",
    "    \n",
    "    lp_filter = 1/ks * np.ones(ks)\n",
    "    \n",
    "    df_filtered_acc =  df_datasets['acceleration_norm'].apply(\n",
    "        lambda row: tuple(signal.lfilter(lp_filter, 1, elem) for elem in row) )\n",
    "    \n",
    "    feature_filtered_acc_signal1[:, :, idx_ks] = np.stack(df_filtered_acc.apply(\n",
    "        lambda row: FeX(row[0], 3, 0, peak_threshold_filtered) / normalizer_vector).values, axis=0)\n",
    "    \n",
    "    feature_filtered_acc_signal2[:, :, idx_ks] = np.stack(df_filtered_acc.apply(\n",
    "        lambda row: FeX(row[1], 3, 0, peak_threshold_filtered) / normalizer_vector).values, axis=0)\n",
    "        \n",
    "    print(\"ks: %d/%d \" %(idx_ks+1, len(kernel_size)) )\n",
    "\n",
    "#df_datasets['acceleration1_filtered_feature'] = feature_filtered_acc_signal1\n",
    "#df_datasets['acceleration2_filtered_feature'] = feature_filtered_acc_signal2"
   ]
  },
  {
   "cell_type": "markdown",
   "metadata": {},
   "source": [
    "## Key Generation\n",
    "\n",
    "* The ultimate objective is to generate exactly the same key from shared shaking processes independently without exchanging any acceleration signal content. Moreover, we want our algorithm to generate different keys on devices when they are not shaken together.\n",
    "\n",
    "* It is known that although the both signals are similar, they are not identical. As a consequence, similar raw signals result in similar feature signals. However, we want our key generation algorithm to map similar feature signals to exactly same key which requires a hashing process. This could be realized via a quantizer which can also be interpreted as a classifier. \n",
    "\n",
    "* Before the normalized feature signal is passed to quantizer, it is rescaled according to number of bits used in the binary representation of the key. The canonical conversion from decimal to binary is adopted for mapping. At the end of quantization and binary representation, a bit stream of a certain length will be generated based on the number of features and number of bits used in binary representation. \n",
    "*  It is worth to notice  that  this  quantization  method  is  very  simple  to implement and calculate."
   ]
  },
  {
   "cell_type": "code",
   "execution_count": 13,
   "metadata": {},
   "outputs": [],
   "source": [
    "def generate_key(feature_signal, nbits):\n",
    "    \"\"\"generates information signal (key) from a given feature signal using Q(.) with nbits\"\"\"\n",
    "    \n",
    "    scaled_feature_signal = feature_signal/max(abs(feature_signal))\n",
    "    scaled_feature_signal = np.round(2**(nbits-1) * (scaled_feature_signal + 1))\n",
    "    bitstream = [format(feat, 'b').zfill(nbits+1) for feat in scaled_feature_signal.astype(int)]\n",
    "    information_signal = ''.join(bitstream)\n",
    "    return information_signal"
   ]
  },
  {
   "cell_type": "code",
   "execution_count": 14,
   "metadata": {},
   "outputs": [],
   "source": [
    "def compute_metrics(gt, pred):\n",
    "    conf_mat = confusion_matrix(y_true=gt, y_pred=pred, labels=[True, False])\n",
    "    accuracy = accuracy_score(gt, pred)\n",
    "    precision = precision_score(gt, pred)\n",
    "    recall = recall_score(gt, pred, labels=[True, False])\n",
    "    f1 = f1_score(gt, pred)\n",
    "    \n",
    "    metric = {'conf_mat': conf_mat, \n",
    "              'accuracy': accuracy, \n",
    "              'precision': precision, \n",
    "              'recall': recall, \n",
    "              'f1': f1}\n",
    "    return metric"
   ]
  },
  {
   "cell_type": "code",
   "execution_count": 15,
   "metadata": {},
   "outputs": [
    {
     "name": "stdout",
     "output_type": "stream",
     "text": [
      "nb:1/5 ks:1/10\n",
      "nb:1/5 ks:2/10\n",
      "nb:1/5 ks:3/10\n",
      "nb:1/5 ks:4/10\n",
      "nb:1/5 ks:5/10\n",
      "nb:1/5 ks:6/10\n",
      "nb:1/5 ks:7/10\n",
      "nb:1/5 ks:8/10\n",
      "nb:1/5 ks:9/10\n",
      "nb:1/5 ks:10/10\n",
      "nb:2/5 ks:1/10\n",
      "nb:2/5 ks:2/10\n",
      "nb:2/5 ks:3/10\n",
      "nb:2/5 ks:4/10\n",
      "nb:2/5 ks:5/10\n",
      "nb:2/5 ks:6/10\n",
      "nb:2/5 ks:7/10\n",
      "nb:2/5 ks:8/10\n",
      "nb:2/5 ks:9/10\n",
      "nb:2/5 ks:10/10\n",
      "nb:3/5 ks:1/10\n",
      "nb:3/5 ks:2/10\n",
      "nb:3/5 ks:3/10\n",
      "nb:3/5 ks:4/10\n",
      "nb:3/5 ks:5/10\n",
      "nb:3/5 ks:6/10\n",
      "nb:3/5 ks:7/10\n",
      "nb:3/5 ks:8/10\n",
      "nb:3/5 ks:9/10\n",
      "nb:3/5 ks:10/10\n",
      "nb:4/5 ks:1/10\n",
      "nb:4/5 ks:2/10\n"
     ]
    },
    {
     "name": "stderr",
     "output_type": "stream",
     "text": [
      "/Users/hidiryuzuguzel/anaconda3/lib/python3.6/site-packages/sklearn/metrics/classification.py:1135: UndefinedMetricWarning: Precision is ill-defined and being set to 0.0 due to no predicted samples.\n",
      "  'precision', 'predicted', average, warn_for)\n",
      "/Users/hidiryuzuguzel/anaconda3/lib/python3.6/site-packages/sklearn/metrics/classification.py:1135: UndefinedMetricWarning: F-score is ill-defined and being set to 0.0 due to no predicted samples.\n",
      "  'precision', 'predicted', average, warn_for)\n"
     ]
    },
    {
     "name": "stdout",
     "output_type": "stream",
     "text": [
      "nb:4/5 ks:3/10\n",
      "nb:4/5 ks:4/10\n",
      "nb:4/5 ks:5/10\n",
      "nb:4/5 ks:6/10\n",
      "nb:4/5 ks:7/10\n",
      "nb:4/5 ks:8/10\n",
      "nb:4/5 ks:9/10\n",
      "nb:4/5 ks:10/10\n",
      "nb:5/5 ks:1/10\n",
      "nb:5/5 ks:2/10\n",
      "nb:5/5 ks:3/10\n",
      "nb:5/5 ks:4/10\n",
      "nb:5/5 ks:5/10\n",
      "nb:5/5 ks:6/10\n",
      "nb:5/5 ks:7/10\n",
      "nb:5/5 ks:8/10\n",
      "nb:5/5 ks:9/10\n",
      "nb:5/5 ks:10/10\n"
     ]
    }
   ],
   "source": [
    "for idx_nb, nbit in enumerate(nbits):\n",
    "    \n",
    "    df_datasets['key_raw_descstat'] = df_datasets['acceleration_feature'].apply(\n",
    "        lambda row: tuple(generate_key(elem, nbit) for elem in row))\n",
    "    \n",
    "    is_confirmed[:, 0] = df_datasets['key_raw_descstat'].apply(\n",
    "        lambda row: sum([b1 == b2 for (b1,b2) in zip(row[0], row[1])])).values  \n",
    "    \n",
    "    for idx_ks, ks in enumerate(kernel_size):\n",
    "        \n",
    "       \n",
    "        key1_filtered_descstat = []\n",
    "        key2_filtered_descstat = []\n",
    "        \n",
    "        for idx_signal in range(nsignals):\n",
    "\n",
    "            key1_filtered_descstat.append(generate_key(feature_filtered_acc_signal1[idx_signal, :, idx_ks], nbit))\n",
    "            key2_filtered_descstat.append(generate_key(feature_filtered_acc_signal2[idx_signal, :, idx_ks], nbit))\n",
    "            \n",
    "            is_confirmed[idx_signal, 1] = sum([b1 == b2 for (b1,b2) in zip(key1_filtered_descstat[idx_signal], \n",
    "                                                                           key2_filtered_descstat[idx_signal])])\n",
    "    \n",
    "        # Performance Assessment (Confusion Matrix (filtered))\n",
    "        y_pred_strict = is_confirmed[:, 1] == (nbit+1) * nfeatures\n",
    "        metrics_filtered_strict = compute_metrics(labels.astype(bool), y_pred_strict)  \n",
    "        df_metric = df_metric.append({'preprocessing': 'filtered', \n",
    "                                      'criteria': 'strict', \n",
    "                                      'nbit': nbit+1, \n",
    "                                      'kernel_size': ks,\n",
    "                                      'conf_mat': metrics_filtered_strict['conf_mat'], \n",
    "                                      'accuracy': metrics_filtered_strict['accuracy'],\n",
    "                                      'precision': metrics_filtered_strict['precision'],\n",
    "                                      'recall': metrics_filtered_strict['recall'], \n",
    "                                      'f1': metrics_filtered_strict['f1']}, ignore_index=True)\n",
    "\n",
    "\n",
    "        y_pred_relaxed = is_confirmed[:, 1] >= ((nbit+1)*nfeatures - (0.1 * (nbit+1)*nfeatures))\n",
    "        metrics_filtered_relaxed = compute_metrics(labels.astype(bool), y_pred_relaxed)\n",
    "        df_metric = df_metric.append({'preprocessing': 'filtered', \n",
    "                                      'criteria': 'relaxed', \n",
    "                                      'nbit': nbit+1, \n",
    "                                      'kernel_size': ks,\n",
    "                                      'conf_mat': metrics_filtered_relaxed['conf_mat'], \n",
    "                                      'accuracy': metrics_filtered_relaxed['accuracy'],\n",
    "                                      'precision': metrics_filtered_relaxed['precision'],\n",
    "                                      'recall': metrics_filtered_relaxed['recall'], \n",
    "                                      'f1': metrics_filtered_relaxed['f1']}, ignore_index=True)\n",
    "        \n",
    "        print(\"nb:%d/%d ks:%d/%d\" %(idx_nb+1, len(nbits), idx_ks+1, len(kernel_size)))\n",
    "    \n",
    "    # Performance Assessment (Confusion Matrix (raw))\n",
    "    y_pred_strict = is_confirmed[:, 0] == (nbit+1)*nfeatures\n",
    "    metrics_raw_strict = compute_metrics(labels.astype(bool), y_pred_strict)\n",
    "    df_metric = df_metric.append({'preprocessing': 'raw', \n",
    "                                  'criteria': 'strict', \n",
    "                                  'nbit': nbit+1, \n",
    "                                  'conf_mat': metrics_raw_strict['conf_mat'], \n",
    "                                  'accuracy': metrics_raw_strict['accuracy'],\n",
    "                                  'precision': metrics_raw_strict['precision'],\n",
    "                                  'recall': metrics_raw_strict['recall'], \n",
    "                                  'f1': metrics_raw_strict['f1']}, ignore_index=True)\n",
    "\n",
    "    y_pred_relaxed = is_confirmed[:, 0] >= (nbit+1)*nfeatures - 0.1 * (nbit+1)*nfeatures\n",
    "    metrics_raw_relaxed = compute_metrics(labels.astype(bool), y_pred_relaxed)\n",
    "    df_metric = df_metric.append({'preprocessing': 'raw', \n",
    "                                  'criteria': 'relaxed', \n",
    "                                  'nbit': nbit+1, \n",
    "                                  'conf_mat': metrics_raw_relaxed['conf_mat'], \n",
    "                                  'accuracy': metrics_raw_relaxed['accuracy'],\n",
    "                                  'precision': metrics_raw_relaxed['precision'],\n",
    "                                  'recall': metrics_raw_relaxed['recall'], \n",
    "                                  'f1': metrics_raw_relaxed['f1']}, ignore_index=True)\n"
   ]
  },
  {
   "cell_type": "markdown",
   "metadata": {},
   "source": [
    "## Performance Assessment Summary \n",
    "\n",
    "- hard constraint (100% matches are required)\n",
    "- relaxed conditions (90% matches are enough)"
   ]
  },
  {
   "cell_type": "code",
   "execution_count": 16,
   "metadata": {},
   "outputs": [
    {
     "data": {
      "text/html": [
       "<div>\n",
       "<style scoped>\n",
       "    .dataframe tbody tr th:only-of-type {\n",
       "        vertical-align: middle;\n",
       "    }\n",
       "\n",
       "    .dataframe tbody tr th {\n",
       "        vertical-align: top;\n",
       "    }\n",
       "\n",
       "    .dataframe thead th {\n",
       "        text-align: right;\n",
       "    }\n",
       "</style>\n",
       "<table border=\"1\" class=\"dataframe\">\n",
       "  <thead>\n",
       "    <tr style=\"text-align: right;\">\n",
       "      <th></th>\n",
       "      <th>preprocessing</th>\n",
       "      <th>criteria</th>\n",
       "      <th>nbit</th>\n",
       "      <th>kernel_size</th>\n",
       "      <th>conf_mat</th>\n",
       "      <th>accuracy</th>\n",
       "      <th>precision</th>\n",
       "      <th>recall</th>\n",
       "      <th>f1</th>\n",
       "    </tr>\n",
       "  </thead>\n",
       "  <tbody>\n",
       "    <tr>\n",
       "      <th>1</th>\n",
       "      <td>filtered</td>\n",
       "      <td>relaxed</td>\n",
       "      <td>4</td>\n",
       "      <td>5</td>\n",
       "      <td>[[114, 36], [13, 287]]</td>\n",
       "      <td>0.891111</td>\n",
       "      <td>0.897638</td>\n",
       "      <td>0.760000</td>\n",
       "      <td>0.823105</td>\n",
       "    </tr>\n",
       "    <tr>\n",
       "      <th>8</th>\n",
       "      <td>filtered</td>\n",
       "      <td>strict</td>\n",
       "      <td>4</td>\n",
       "      <td>25</td>\n",
       "      <td>[[64, 86], [6, 294]]</td>\n",
       "      <td>0.795556</td>\n",
       "      <td>0.914286</td>\n",
       "      <td>0.426667</td>\n",
       "      <td>0.581818</td>\n",
       "    </tr>\n",
       "    <tr>\n",
       "      <th>20</th>\n",
       "      <td>raw</td>\n",
       "      <td>strict</td>\n",
       "      <td>4</td>\n",
       "      <td>NaN</td>\n",
       "      <td>[[46, 104], [0, 300]]</td>\n",
       "      <td>0.768889</td>\n",
       "      <td>1.000000</td>\n",
       "      <td>0.306667</td>\n",
       "      <td>0.469388</td>\n",
       "    </tr>\n",
       "    <tr>\n",
       "      <th>21</th>\n",
       "      <td>raw</td>\n",
       "      <td>relaxed</td>\n",
       "      <td>4</td>\n",
       "      <td>NaN</td>\n",
       "      <td>[[99, 51], [21, 279]]</td>\n",
       "      <td>0.840000</td>\n",
       "      <td>0.825000</td>\n",
       "      <td>0.660000</td>\n",
       "      <td>0.733333</td>\n",
       "    </tr>\n",
       "  </tbody>\n",
       "</table>\n",
       "</div>"
      ],
      "text/plain": [
       "   preprocessing criteria nbit kernel_size                conf_mat  accuracy  \\\n",
       "1       filtered  relaxed    4           5  [[114, 36], [13, 287]]  0.891111   \n",
       "8       filtered   strict    4          25    [[64, 86], [6, 294]]  0.795556   \n",
       "20           raw   strict    4         NaN   [[46, 104], [0, 300]]  0.768889   \n",
       "21           raw  relaxed    4         NaN   [[99, 51], [21, 279]]  0.840000   \n",
       "\n",
       "    precision    recall        f1  \n",
       "1    0.897638  0.760000  0.823105  \n",
       "8    0.914286  0.426667  0.581818  \n",
       "20   1.000000  0.306667  0.469388  \n",
       "21   0.825000  0.660000  0.733333  "
      ]
     },
     "execution_count": 16,
     "metadata": {},
     "output_type": "execute_result"
    }
   ],
   "source": [
    "idx_best_accuracy = df_metric.groupby(['preprocessing', 'criteria'])['accuracy'].transform(max) == df_metric['accuracy']\n",
    "df_metric[idx_best_accuracy]"
   ]
  },
  {
   "cell_type": "code",
   "execution_count": 17,
   "metadata": {},
   "outputs": [
    {
     "data": {
      "text/html": [
       "<div>\n",
       "<style scoped>\n",
       "    .dataframe tbody tr th:only-of-type {\n",
       "        vertical-align: middle;\n",
       "    }\n",
       "\n",
       "    .dataframe tbody tr th {\n",
       "        vertical-align: top;\n",
       "    }\n",
       "\n",
       "    .dataframe thead th {\n",
       "        text-align: right;\n",
       "    }\n",
       "</style>\n",
       "<table border=\"1\" class=\"dataframe\">\n",
       "  <thead>\n",
       "    <tr style=\"text-align: right;\">\n",
       "      <th></th>\n",
       "      <th>preprocessing</th>\n",
       "      <th>criteria</th>\n",
       "      <th>nbit</th>\n",
       "      <th>kernel_size</th>\n",
       "      <th>conf_mat</th>\n",
       "      <th>accuracy</th>\n",
       "      <th>precision</th>\n",
       "      <th>recall</th>\n",
       "      <th>f1</th>\n",
       "    </tr>\n",
       "  </thead>\n",
       "  <tbody>\n",
       "    <tr>\n",
       "      <th>1</th>\n",
       "      <td>filtered</td>\n",
       "      <td>relaxed</td>\n",
       "      <td>4</td>\n",
       "      <td>5</td>\n",
       "      <td>[[114, 36], [13, 287]]</td>\n",
       "      <td>0.891111</td>\n",
       "      <td>0.897638</td>\n",
       "      <td>0.760000</td>\n",
       "      <td>0.823105</td>\n",
       "    </tr>\n",
       "    <tr>\n",
       "      <th>18</th>\n",
       "      <td>filtered</td>\n",
       "      <td>strict</td>\n",
       "      <td>4</td>\n",
       "      <td>50</td>\n",
       "      <td>[[68, 82], [11, 289]]</td>\n",
       "      <td>0.793333</td>\n",
       "      <td>0.860759</td>\n",
       "      <td>0.453333</td>\n",
       "      <td>0.593886</td>\n",
       "    </tr>\n",
       "    <tr>\n",
       "      <th>20</th>\n",
       "      <td>raw</td>\n",
       "      <td>strict</td>\n",
       "      <td>4</td>\n",
       "      <td>NaN</td>\n",
       "      <td>[[46, 104], [0, 300]]</td>\n",
       "      <td>0.768889</td>\n",
       "      <td>1.000000</td>\n",
       "      <td>0.306667</td>\n",
       "      <td>0.469388</td>\n",
       "    </tr>\n",
       "    <tr>\n",
       "      <th>21</th>\n",
       "      <td>raw</td>\n",
       "      <td>relaxed</td>\n",
       "      <td>4</td>\n",
       "      <td>NaN</td>\n",
       "      <td>[[99, 51], [21, 279]]</td>\n",
       "      <td>0.840000</td>\n",
       "      <td>0.825000</td>\n",
       "      <td>0.660000</td>\n",
       "      <td>0.733333</td>\n",
       "    </tr>\n",
       "  </tbody>\n",
       "</table>\n",
       "</div>"
      ],
      "text/plain": [
       "   preprocessing criteria nbit kernel_size                conf_mat  accuracy  \\\n",
       "1       filtered  relaxed    4           5  [[114, 36], [13, 287]]  0.891111   \n",
       "18      filtered   strict    4          50   [[68, 82], [11, 289]]  0.793333   \n",
       "20           raw   strict    4         NaN   [[46, 104], [0, 300]]  0.768889   \n",
       "21           raw  relaxed    4         NaN   [[99, 51], [21, 279]]  0.840000   \n",
       "\n",
       "    precision    recall        f1  \n",
       "1    0.897638  0.760000  0.823105  \n",
       "18   0.860759  0.453333  0.593886  \n",
       "20   1.000000  0.306667  0.469388  \n",
       "21   0.825000  0.660000  0.733333  "
      ]
     },
     "execution_count": 17,
     "metadata": {},
     "output_type": "execute_result"
    }
   ],
   "source": [
    "idx_best_f1 = df_metric.groupby(['preprocessing', 'criteria'])['f1'].transform(max) == df_metric['f1']\n",
    "df_metric[idx_best_f1]"
   ]
  },
  {
   "cell_type": "code",
   "execution_count": 18,
   "metadata": {},
   "outputs": [],
   "source": [
    "df_filt_strict = df_metric[(df_metric['preprocessing'] == 'filtered') & (df_metric['criteria'] == 'strict')]\n",
    "accuracy_filt_strict = pd.pivot_table(df_filt_strict, values='accuracy', index='nbit', columns='kernel_size').values\n",
    "f1_filt_strict = pd.pivot_table(df_filt_strict, values='f1', index='nbit', columns='kernel_size').values"
   ]
  },
  {
   "cell_type": "code",
   "execution_count": 19,
   "metadata": {},
   "outputs": [],
   "source": [
    "df_filt_relaxed = df_metric[(df_metric['preprocessing'] == 'filtered') & (df_metric['criteria'] == 'relaxed')]\n",
    "accuracy_filt_relaxed = pd.pivot_table(df_filt_relaxed, values='accuracy', index='nbit', columns='kernel_size').values\n",
    "f1_filt_relaxed = pd.pivot_table(df_filt_relaxed, values='f1', index='nbit', columns='kernel_size').values"
   ]
  },
  {
   "cell_type": "code",
   "execution_count": 20,
   "metadata": {},
   "outputs": [
    {
     "data": {
      "image/png": "[encoded data removed]",
      "text/plain": [
       "<Figure size 432x288 with 8 Axes>"
      ]
     },
     "metadata": {},
     "output_type": "display_data"
    }
   ],
   "source": [
    "metrics = {}\n",
    "metrics['Accuracy (Strict)'] = accuracy_filt_strict\n",
    "metrics['F1 (Strict)'] = f1_filt_strict\n",
    "metrics['Accuracy (Relaxed)'] = accuracy_filt_relaxed\n",
    "metrics['F1 (Relaxed)'] = f1_filt_relaxed\n",
    "\n",
    "fig, axes = plt.subplots(2,2)\n",
    "\n",
    "for ax, key in zip(axes.flatten(), metrics):\n",
    "\n",
    "    im = ax.imshow(metrics[key], aspect= 'auto', cmap=\"hot\")\n",
    "    ax.set_xlabel('ks')\n",
    "    ax.set_ylabel('nb')\n",
    "    ax.set_title(key)\n",
    "    ax.set_xticks(range(0, len(kernel_size)))\n",
    "    ax.set_yticks(range(0, len(nbits)))\n",
    "    ax.set_xticklabels(kernel_size)\n",
    "    ax.set_yticklabels(nbits + 1)\n",
    "    fig.colorbar(im, ax=ax)\n",
    "    fig.tight_layout()"
   ]
  },
  {
   "cell_type": "markdown",
   "metadata": {},
   "source": [
    "## Entropy Analysis\n",
    "\n",
    "- Generate keys with best parameters, i.e. nb= 4 bits & kernel_size = 5\n",
    "- For the above four cases (strict/relaxed, raw/filtered) we also estimated the entropies of the information signals. The maximal possible entropy is of course $40$ bits when each of the $10$ feature signals are quantized to $nb=4$ four bits and then concatenated to one bitstream of length $40$. The needed probabilities were obtained by estimating a multivariate Bernoulli mixture with the expectation maximization algorithm from our keys. The Bayesian information criterion was used to determine the size of the mixture. The hereby calculated entropies varied between $14$-$16$ bits for the four cases, which is sufficiently strong security for typical device pairing applications."
   ]
  },
  {
   "cell_type": "code",
   "execution_count": 21,
   "metadata": {},
   "outputs": [],
   "source": [
    "df_datasets['key_raw_descstat'] = df_datasets['acceleration_feature'].apply(\n",
    "    lambda row: tuple(generate_key(elem, 3) for elem in row))"
   ]
  },
  {
   "cell_type": "code",
   "execution_count": 22,
   "metadata": {},
   "outputs": [],
   "source": [
    "idx_best_ks = np.where(kernel_size==5)[0][0]\n",
    "df_datasets['filtered_acceleration_feature'] = [(f1,f2) for f1,f2 in zip(feature_filtered_acc_signal1[:,:,idx_best_ks], \n",
    "                                                                     feature_filtered_acc_signal2[:,:,idx_best_ks])]\n",
    "\n",
    "df_datasets['key_filtered_descstat'] = df_datasets['filtered_acceleration_feature'].apply(\n",
    "    lambda row: tuple(generate_key(elem, 3) for elem in row))"
   ]
  },
  {
   "cell_type": "code",
   "execution_count": 23,
   "metadata": {},
   "outputs": [
    {
     "name": "stdout",
     "output_type": "stream",
     "text": [
      "[[1 0 0 ... 1 0 1]\n",
      " [0 1 1 ... 1 0 1]\n",
      " [0 1 1 ... 1 0 1]\n",
      " ...\n",
      " [1 0 0 ... 1 1 1]\n",
      " [1 0 0 ... 1 1 1]\n",
      " [1 0 0 ... 0 0 0]]\n"
     ]
    }
   ],
   "source": [
    "A = []\n",
    "for idx_signal, row in df_datasets.iterrows():\n",
    "    A.append(list(map(int, row['key_raw_descstat'][0])))\n",
    "    \n",
    "A = np.asarray(A[:150])\n",
    "print(A)"
   ]
  },
  {
   "cell_type": "code",
   "execution_count": 25,
   "metadata": {},
   "outputs": [
    {
     "data": {
      "text/plain": [
       "array([0.22590604, 0.        , 0.        , 0.23194631, 0.        ,\n",
       "       0.16505593, 0.        , 0.03243848, 0.        , 0.12599553,\n",
       "       0.22590604, 0.        , 0.        , 0.23194631, 0.01973154,\n",
       "       0.16505593, 0.        , 0.03243848, 0.        , 0.12599553,\n",
       "       0.22590604, 0.25149888, 0.22590604, 0.24881432, 0.01973154,\n",
       "       0.19369128, 0.00666667, 0.05082774, 0.20868009, 0.2190604 ,\n",
       "       0.20295302, 0.25163311, 0.23002237, 0.23718121, 0.20295302,\n",
       "       0.23718121, 0.10630872, 0.25163311, 0.23002237, 0.24881432])"
      ]
     },
     "execution_count": 25,
     "metadata": {},
     "output_type": "execute_result"
    }
   ],
   "source": [
    "vA = np.var(A, axis=0, ddof=1)\n",
    "vA"
   ]
  },
  {
   "cell_type": "code",
   "execution_count": 26,
   "metadata": {},
   "outputs": [
    {
     "data": {
      "text/plain": [
       "array([[1, 0, 0, ..., 0, 1, 1],\n",
       "       [0, 0, 1, ..., 0, 1, 1],\n",
       "       [0, 0, 1, ..., 0, 0, 1],\n",
       "       ...,\n",
       "       [1, 0, 0, ..., 1, 0, 1],\n",
       "       [1, 0, 0, ..., 1, 0, 1],\n",
       "       [1, 1, 0, ..., 1, 0, 0]], dtype=uint8)"
      ]
     },
     "execution_count": 26,
     "metadata": {},
     "output_type": "execute_result"
    }
   ],
   "source": [
    "A = A[:, vA>0]\n",
    "A"
   ]
  },
  {
   "cell_type": "code",
   "execution_count": 27,
   "metadata": {},
   "outputs": [],
   "source": [
    "N, D = np.shape(A)"
   ]
  },
  {
   "cell_type": "code",
   "execution_count": 28,
   "metadata": {},
   "outputs": [
    {
     "data": {
      "text/plain": [
       "(150, 31)"
      ]
     },
     "execution_count": 28,
     "metadata": {},
     "output_type": "execute_result"
    }
   ],
   "source": [
    "N,D"
   ]
  },
  {
   "cell_type": "markdown",
   "metadata": {},
   "source": [
    "## EM estimation of the density"
   ]
  },
  {
   "cell_type": "code",
   "execution_count": 44,
   "metadata": {},
   "outputs": [],
   "source": [
    "C_range = np.arange(1, 31) # hyperparameter: number of mixture components \n",
    "MAX_ITER = 20\n",
    "\n",
    "BICmtx = np.zeros((len(C_range), MAX_ITER))\n",
    "Hmtx = BICmtx.copy()"
   ]
  },
  {
   "cell_type": "code",
   "execution_count": 45,
   "metadata": {},
   "outputs": [
    {
     "name": "stdout",
     "output_type": "stream",
     "text": [
      "Entropy:  17.488822561687364\n"
     ]
    }
   ],
   "source": [
    "for idx, C in enumerate(C_range):\n",
    "    for it in range(MAX_ITER):\n",
    "        p = 1/C * np.ones((C,1)) + np.random.randn(C,1)*(0.2*1/C) # initialization of mixing parameters\n",
    "        q = 1/2 * np.ones((C,D)) + np.random.randn(C,D)*(0.2*1/2) # initialization of Bernoulli parameters\n",
    "        k = A.copy()  # data\n",
    "        f = lambda k, q_c: np.prod(np.power(np.tile(q_c, (N, 1)), k) * np.power(1-np.tile(q_c, (N, 1)), 1-k), dtype='float64', axis=1)\n",
    "        p0 = p.copy()\n",
    "        pn = 1\n",
    "        q0 = q.copy()\n",
    "        qn = 1\n",
    "        while (pn > 1e-8 or qn > 1e-8):\n",
    "            sumC = 0\n",
    "            \n",
    "            for i in range(C):\n",
    "                sumC += p[i] * f(k, q[i,:])\n",
    "            \n",
    "            for i in range(C):\n",
    "                gnk = sum((p[i] * f(k, q[i, :])) / sumC)\n",
    "                gnkx = sum(np.tile(((p[i] * f(k, q[i, :]) / sumC))[..., np.newaxis], (1, D)) * k)\n",
    "                p[i] = 1/N * gnk\n",
    "                q[i, :] = gnkx/gnk\n",
    "                \n",
    "            pn = np.median(abs(p-p0) / np.maximum(abs(p), 1e-10))\n",
    "            qn = np.median(abs(q.flatten()-q0.flatten()) / np.maximum(abs(q.flatten()), 1e-10))\n",
    "            p0 = p\n",
    "            q0 = q\n",
    "            \n",
    "        # Entropy calculation:\n",
    "        \n",
    "        sumC = 0\n",
    "        for i in range(C):\n",
    "            sumC += p[i] * f(k, q[i,:])\n",
    "        \n",
    "        Hmtx[idx, it] = -sum(np.log2(sumC))\n",
    "        Hmtx[idx, it] /= N\n",
    "        \n",
    "        # BIC calculation:\n",
    "        \n",
    "        loglik = sum(np.log(sumC))\n",
    "        BICmtx[idx, it] = -2 * loglik + (C+C*D) * np.log(N)\n",
    "\n",
    "\n",
    "BIC = np.median(BICmtx, axis=1)\n",
    "H = np.median(Hmtx, axis=1)\n",
    "indexi = np.argmin(BIC)\n",
    "Entropy = H[indexi]\n",
    "print(\"Entropy: \", Entropy)"
   ]
  },
  {
   "cell_type": "code",
   "execution_count": 31,
   "metadata": {},
   "outputs": [
    {
     "data": {
      "image/png": "[encoded data removed]",
      "text/plain": [
       "<Figure size 432x288 with 2 Axes>"
      ]
     },
     "metadata": {},
     "output_type": "display_data"
    }
   ],
   "source": [
    "fig, ax = plt.subplots(2, 1)\n",
    "ax[0].plot(C_range,BIC, C_range[indexi], BIC[indexi], 'ro')\n",
    "ax[0].set_title(\"BIC\")\n",
    "\n",
    "ax[1].plot(C_range, H, C_range[indexi], H[indexi], 'ro')\n",
    "ax[1].set_title(\"Entropy\")\n",
    "\n",
    "plt.tight_layout()\n",
    "\n",
    "plt.show()"
   ]
  },
  {
   "cell_type": "code",
   "execution_count": null,
   "metadata": {},
   "outputs": [],
   "source": []
  }
 ],
 "metadata": {
  "kernelspec": {
   "display_name": "Python 3",
   "language": "python",
   "name": "python3"
  },
  "language_info": {
   "codemirror_mode": {
    "name": "ipython",
    "version": 3
   },
   "file_extension": ".py",
   "mimetype": "text/x-python",
   "name": "python",
   "nbconvert_exporter": "python",
   "pygments_lexer": "ipython3",
   "version": "3.6.7"
  }
 },
 "nbformat": 4,
 "nbformat_minor": 2
}
